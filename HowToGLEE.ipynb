{
 "cells": [
  {
   "cell_type": "markdown",
   "metadata": {},
   "source": [
    "Welcome to PyGLEE! A user-friendly python wrapper for GLEE"
   ]
  },
  {
   "cell_type": "markdown",
   "metadata": {},
   "source": [
    "We first initialise PyGLEE, using:"
   ]
  },
  {
   "cell_type": "code",
   "execution_count": 3,
   "metadata": {},
   "outputs": [],
   "source": [
    "from pyGLEE import *"
   ]
  },
  {
   "cell_type": "markdown",
   "metadata": {},
   "source": [
    "Let's take a look at how PyGLEE works.\n",
    "\n",
    "#### Level 0: The `GleeConfig`\n",
    "\n",
    "The `GleeConfig` class is the main configuration object in PyGLEE. It's responsible for holding all the configuration parameters needed to run GLEE (what we usually call a configfile in the backend)\n",
    "\n",
    "The `GleeConfig` class typically includes parameters related to the lensing system and the optimization process as well as paths for the data files. These parameters are usually grouped into different objects, each representing a different aspect of the configuration.\n",
    "\n",
    "The `GleeConfig` class includes a `Header` object for general configuration parameters, an `Optimizers` object for parameters related to the optimization process, an `ESource` object for parameters related to the extended sources.\n",
    "\n",
    "#### Level 1: The `Header`\n",
    "\n",
    "The `Header` class represemts the chi2 parameters for GLEE\n",
    "\n",
    "Attributes:\n",
    "- `chi2type`: This integer attribute represents the type of chi2 calculation to use. The different types are represented by different numbers (1, 2, 4, 8, 16, 32, 64, 128), and each number corresponds to a different aspect of the analysis. To use multiple types, you add the numbers together (3 is not allowed).\n",
    ">        1: point source position\n",
    ">        2: point image position\n",
    ">        4: fluxes\n",
    ">        8: \n",
    ">        16: extended images (chi2 of pixelated image)\n",
    ">        32: \n",
    ">        64: \n",
    ">        128: time delays\n",
    "\n",
    "- `minimiser`: This string attribute represents the minimiser to use. It can be 'siman'. (More options ask SHS)\n",
    "- `seed`: (Ask SHS)\n",
    "\n",
    "\n"
   ]
  },
  {
   "cell_type": "markdown",
   "metadata": {},
   "source": []
  },
  {
   "cell_type": "markdown",
   "metadata": {},
   "source": []
  }
 ],
 "metadata": {
  "kernelspec": {
   "display_name": "venv",
   "language": "python",
   "name": "python3"
  },
  "language_info": {
   "codemirror_mode": {
    "name": "ipython",
    "version": 3
   },
   "file_extension": ".py",
   "mimetype": "text/x-python",
   "name": "python",
   "nbconvert_exporter": "python",
   "pygments_lexer": "ipython3",
   "version": "3.11.5"
  }
 },
 "nbformat": 4,
 "nbformat_minor": 2
}
