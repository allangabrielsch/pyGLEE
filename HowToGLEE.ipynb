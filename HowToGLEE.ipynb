{
 "cells": [
  {
   "cell_type": "markdown",
   "metadata": {},
   "source": [
    "Welcome to PyGLEE! A user-friendly python wrapper for GLEE"
   ]
  },
  {
   "cell_type": "markdown",
   "metadata": {},
   "source": [
    "We first initialise PyGLEE, using:"
   ]
  },
  {
   "cell_type": "code",
   "execution_count": 3,
   "metadata": {},
   "outputs": [],
   "source": [
    "from pyGLEE import *"
   ]
  },
  {
   "cell_type": "markdown",
   "metadata": {},
   "source": [
    "Let's take a look at how PyGLEE works.\n",
    "\n",
    "The `GleeConfig` class is the main configuration object in PyGLEE. It's responsible for holding all the configuration parameters needed to run GLEE (what we usually call a configfile in the backend)\n",
    "\n",
    "The `GleeConfig` class typically includes parameters related to the lensing system and the optimization process as well as paths for the data files. These parameters are usually grouped into different objects, each representing a different aspect of the configuration.\n",
    "\n",
    "The `GleeConfig` class includes a `Header` object for general configuration parameters, an `Optimizers` object for parameters related to the optimization process, an `ESource` object for parameters related to the extended sources.\n"
   ]
  }
 ],
 "metadata": {
  "kernelspec": {
   "display_name": "venv",
   "language": "python",
   "name": "python3"
  },
  "language_info": {
   "codemirror_mode": {
    "name": "ipython",
    "version": 3
   },
   "file_extension": ".py",
   "mimetype": "text/x-python",
   "name": "python",
   "nbconvert_exporter": "python",
   "pygments_lexer": "ipython3",
   "version": "3.11.5"
  }
 },
 "nbformat": 4,
 "nbformat_minor": 2
}
